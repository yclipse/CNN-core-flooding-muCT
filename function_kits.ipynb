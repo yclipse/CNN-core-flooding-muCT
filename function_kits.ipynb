{
 "cells": [
  {
   "cell_type": "code",
   "execution_count": 1,
   "metadata": {},
   "outputs": [],
   "source": [
    "from PIL import Image \n",
    "import os\n",
    "import torch\n",
    "import torch.nn as nn\n",
    "import torch.utils.data as Data\n",
    "#import torchvision\n",
    "import matplotlib.pyplot as plt\n",
    "import glob\n",
    "import numpy as np\n",
    "from skimage.io import imsave\n",
    "import time"
   ]
  },
  {
   "cell_type": "code",
   "execution_count": 3,
   "metadata": {},
   "outputs": [
    {
     "name": "stdout",
     "output_type": "stream",
     "text": [
      "toolbox functions available\n"
     ]
    }
   ],
   "source": [
    "def test_availability():\n",
    "    print ('toolbox functions available')\n",
    "test_availability()"
   ]
  },
  {
   "cell_type": "code",
   "execution_count": 2,
   "metadata": {},
   "outputs": [],
   "source": [
    "def im2array(img):\n",
    "    im=Image.open(img)\n",
    "    imarray=np.array(im)\n",
    "    return imarray"
   ]
  },
  {
   "cell_type": "code",
   "execution_count": 4,
   "metadata": {},
   "outputs": [],
   "source": [
    "def imview(image,figsize=(10,10)): #require inputs of an image array 'image' and a slice number i.\n",
    "    plt.figure(figsize=figsize,dpi=100)#this changes the figsize, has to be before imshow\n",
    "    plt.imshow(image,cmap='gray') #show the first image of 'dolo' using grayscale colourmap\n",
    "    plt.axis('off')"
   ]
  },
  {
   "cell_type": "code",
   "execution_count": 5,
   "metadata": {},
   "outputs": [],
   "source": [
    "from scipy import stats \n",
    "def rescale(batch_name):\n",
    "    vmin, vmax = stats.scoreatpercentile(batch_name, (0.1, 99.9))\n",
    "    batch_name = np.clip(batch_name, vmin, vmax)#Clip (limit) the values in imgs\n",
    "    batch_name = (batch_name - vmin) / (vmax - vmin)   \n",
    "    return batch_name"
   ]
  },
  {
   "cell_type": "code",
   "execution_count": 8,
   "metadata": {},
   "outputs": [],
   "source": [
    "def im_compare(a,b,figsize=(12,12)):\n",
    "    fig, axes = plt.subplots(ncols=2, figsize=figsize)\n",
    "    ax0, ax1= axes\n",
    "    #if the input is a 3d image, print slice a; else print a 2d image\n",
    "    if a.ndim==2:\n",
    "        ax0.imshow(a, cmap='gray')\n",
    "        ax0.set_title(\"Image A\")\n",
    "        ax0.axis('off')\n",
    "    if b.ndim==2:\n",
    "        ax1.imshow(b, cmap='gray')\n",
    "        ax1.set_title(\"Image B\")\n",
    "        ax1.axis(\"off\")\n",
    "    plt.subplots_adjust(left=None, bottom=None, right=None, top=None\n",
    "                        , wspace=0.1, hspace=None)"
   ]
  },
  {
   "cell_type": "code",
   "execution_count": 7,
   "metadata": {},
   "outputs": [],
   "source": [
    "import scipy.misc\n",
    "import os.path\n",
    "\n",
    "def save(batch_name,directory):\n",
    "    if not os.path.exists(directory):\n",
    "        os.makedirs(directory)\n",
    "    for x in xrange(0,len(batch_name[0::])): \n",
    "        scipy.misc.imsave(os.path.join(directory,'result_%04d.tif'%x),batch_name[x])\n",
    "        "
   ]
  },
  {
   "cell_type": "code",
   "execution_count": null,
   "metadata": {},
   "outputs": [],
   "source": []
  }
 ],
 "metadata": {
  "kernelspec": {
   "display_name": "Python 3",
   "language": "python",
   "name": "python3"
  },
  "language_info": {
   "codemirror_mode": {
    "name": "ipython",
    "version": 3
   },
   "file_extension": ".py",
   "mimetype": "text/x-python",
   "name": "python",
   "nbconvert_exporter": "python",
   "pygments_lexer": "ipython3",
   "version": "3.7.6"
  },
  "varInspector": {
   "cols": {
    "lenName": 16,
    "lenType": 16,
    "lenVar": 40
   },
   "kernels_config": {
    "python": {
     "delete_cmd_postfix": "",
     "delete_cmd_prefix": "del ",
     "library": "var_list.py",
     "varRefreshCmd": "print(var_dic_list())"
    },
    "r": {
     "delete_cmd_postfix": ") ",
     "delete_cmd_prefix": "rm(",
     "library": "var_list.r",
     "varRefreshCmd": "cat(var_dic_list()) "
    }
   },
   "types_to_exclude": [
    "module",
    "function",
    "builtin_function_or_method",
    "instance",
    "_Feature"
   ],
   "window_display": false
  }
 },
 "nbformat": 4,
 "nbformat_minor": 2
}
